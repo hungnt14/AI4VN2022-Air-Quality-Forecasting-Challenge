{
 "cells": [
  {
   "cell_type": "code",
   "execution_count": 35,
   "metadata": {},
   "outputs": [],
   "source": [
    "import numpy as np\n",
    "import pandas as pd\n",
    "import lightgbm as lgb\n",
    "import statsmodels.api as sm\n",
    "import matplotlib.pyplot as plt\n",
    "import xgboost as xgb\n",
    "import warnings\n"
   ]
  },
  {
   "cell_type": "markdown",
   "metadata": {},
   "source": [
    "### Data loader"
   ]
  },
  {
   "cell_type": "code",
   "execution_count": 2,
   "metadata": {},
   "outputs": [],
   "source": [
    "df = pd.read_csv(\n",
    "    '../data/processed/data-train/input/S0000137-Ngoc Khanh.csv')\n"
   ]
  },
  {
   "cell_type": "code",
   "execution_count": 15,
   "metadata": {},
   "outputs": [],
   "source": [
    "data = df['PM2.5'].values"
   ]
  },
  {
   "cell_type": "code",
   "execution_count": 14,
   "metadata": {},
   "outputs": [
    {
     "name": "stdout",
     "output_type": "stream",
     "text": [
      "ADF test statistic: -6.435524204964674\n",
      "ADF p-values: 1.6565574828994273e-08\n",
      "ADF number of lags used: 27\n",
      "ADF number of observations: 8972\n",
      "ADF critical values: {'1%': -3.4310790650823195, '5%': -2.8618621993323705, '10%': -2.566941501681359}\n",
      "ADF best information criterion: 67397.21075403543\n"
     ]
    }
   ],
   "source": [
    "from statsmodels.tsa.stattools import adfuller\n",
    "adf, pval, usedlag, nobs, crit_vals, icbest = adfuller(df['PM2.5'].values)\n",
    "print('ADF test statistic:', adf)\n",
    "print('ADF p-values:', pval)\n",
    "print('ADF number of lags used:', usedlag)\n",
    "print('ADF number of observations:', nobs)\n",
    "print('ADF critical values:', crit_vals)\n",
    "print('ADF best information criterion:', icbest)\n"
   ]
  },
  {
   "cell_type": "code",
   "execution_count": 23,
   "metadata": {},
   "outputs": [],
   "source": [
    "X_data = []\n",
    "y_data = []\n",
    "for i in range(len(data) - 169):\n",
    "    X_data.append(data[i:i+168])\n",
    "    y_data.append(data[i+168])\n",
    "\n",
    "X_windows = np.vstack(X_data)"
   ]
  },
  {
   "cell_type": "markdown",
   "metadata": {},
   "source": [
    "### Cost function"
   ]
  },
  {
   "cell_type": "code",
   "execution_count": 3,
   "metadata": {},
   "outputs": [],
   "source": [
    "# def mdape(preds, target):\n",
    "#     mdape = np.median((np.abs(np.subtract(target, preds)) / preds))\n",
    "#     return mdape\n",
    "\n",
    "\n",
    "# def lgbm_mdape(preds, train_data):\n",
    "#     labels = train_data.get_label()\n",
    "#     mdape_val = mdape(np.array(preds), np.array(labels))\n",
    "#     return 'MDAPE', mdape, False\n"
   ]
  },
  {
   "cell_type": "markdown",
   "metadata": {},
   "source": [
    "### Train test split"
   ]
  },
  {
   "cell_type": "code",
   "execution_count": 34,
   "metadata": {},
   "outputs": [],
   "source": [
    "from sklearn.model_selection import train_test_split\n",
    "X_train, X_test, y_train, y_test = train_test_split(\n",
    "    X_windows, np.array(y_data), test_size=0.2, random_state=1)\n"
   ]
  },
  {
   "cell_type": "code",
   "execution_count": 4,
   "metadata": {},
   "outputs": [],
   "source": [
    "# def split(df, ratio):\n",
    "#     n = len(df)\n",
    "#     train = df.iloc[: int(ratio * n), ]\n",
    "#     test = df.iloc[int(ratio * n) :, ]\n",
    "\n",
    "#     return train, test\n"
   ]
  },
  {
   "cell_type": "code",
   "execution_count": 5,
   "metadata": {},
   "outputs": [],
   "source": [
    "# train, test = split(df, 0.8)\n",
    "# train, val = split(train, 0.8)"
   ]
  },
  {
   "cell_type": "code",
   "execution_count": 6,
   "metadata": {},
   "outputs": [],
   "source": [
    "# cols = [col for col in df.columns if col not in ['timestamp', 'PM2.5', 'year', 'humidity', 'temperature']]"
   ]
  },
  {
   "cell_type": "code",
   "execution_count": 7,
   "metadata": {},
   "outputs": [],
   "source": [
    "# Y_train = train['PM2.5']\n",
    "# X_train = train[cols]\n",
    "\n",
    "# Y_val = val['PM2.5']\n",
    "# X_val = val[cols]\n"
   ]
  },
  {
   "cell_type": "markdown",
   "metadata": {},
   "source": [
    "### Base model"
   ]
  },
  {
   "cell_type": "code",
   "execution_count": 8,
   "metadata": {},
   "outputs": [],
   "source": [
    "# lgb_params = {'metric': {'mdape'},\n",
    "#               'num_leaves': 10,\n",
    "#               'learning_rate': 0.02,\n",
    "#               'feature_fraction': 0.8,\n",
    "#               'max_depth': 5,\n",
    "#               'verbose': 0,\n",
    "#               'num_boost_round': 15000,\n",
    "#               'early_stopping_rounds': 200,\n",
    "#               'nthread': -1}\n"
   ]
  },
  {
   "cell_type": "code",
   "execution_count": 9,
   "metadata": {},
   "outputs": [],
   "source": [
    "# lgbtrain = lgb.Dataset(data=X_train, label=Y_train, feature_name=cols)\n",
    "# lgbval = lgb.Dataset(data=X_val, label=Y_val,\n",
    "#                      reference=lgbtrain, feature_name=cols)\n"
   ]
  },
  {
   "cell_type": "code",
   "execution_count": 37,
   "metadata": {},
   "outputs": [],
   "source": [
    "def mdape(preds, target):\n",
    "    mdape = np.median((np.abs(np.subtract(target, preds)) / preds)) * 100\n",
    "    return mdape\n",
    "\n",
    "\n",
    "def lgbm_mdape(preds, train_data):\n",
    "    labels = train_data.get_label()\n",
    "    mdape_val = mdape(np.array(preds), np.array(labels))\n",
    "    return 'MDAPE', mdape_val, False\n"
   ]
  },
  {
   "cell_type": "code",
   "execution_count": null,
   "metadata": {},
   "outputs": [],
   "source": [
    "# model = lgb.train(lgb_params, lgbtrain,\n",
    "#                   valid_sets=[lgbtrain, lgbval],\n",
    "#                   num_boost_round=lgb_params['num_boost_round'],\n",
    "#                   early_stopping_rounds=lgb_params['early_stopping_rounds'],\n",
    "#                   feval=lgbm_mdape,\n",
    "#                   verbose_eval=200)\n"
   ]
  },
  {
   "cell_type": "code",
   "execution_count": 12,
   "metadata": {},
   "outputs": [],
   "source": [
    "# y_pred_val = model.predict(X_val)"
   ]
  },
  {
   "cell_type": "code",
   "execution_count": 13,
   "metadata": {},
   "outputs": [
    {
     "data": {
      "text/plain": [
       "37.16799319193174"
      ]
     },
     "execution_count": 13,
     "metadata": {},
     "output_type": "execute_result"
    }
   ],
   "source": [
    "# mdape(y_pred_val, Y_val)"
   ]
  },
  {
   "cell_type": "code",
   "execution_count": null,
   "metadata": {},
   "outputs": [],
   "source": [
    "# import numpy as np\n",
    "# import xgboost as xgb\n",
    "# from sklearn.model_selection import KFold\n",
    "# # import neptune.new as neptune\n",
    "# from sklearn.metrics import mean_squared_error\n",
    "\n",
    "# # specify the grid for the grid search of hyperparameter tuning\n",
    "# # parameters = {'max_depth': list(range(2, 20, 4)),\n",
    "# #               'gamma': list(range(0, 10, 2)),\n",
    "# #               'min_child_weight': list(range(0, 10, 2)),\n",
    "# #               'eta': [0.01, 0.05, 0.1, 0.15, 0.2, 0.3, 0.5]\n",
    "# #               }\n",
    "\n",
    "# # param_list = [(x, y, z, a) for x in parameters['max_depth'] for y in parameters['gamma']\n",
    "# #               for z in parameters['min_child_weight'] for a in parameters['eta']]\n",
    "\n",
    "\n",
    "# for params in param_list:\n",
    "\n",
    "#     mses = []\n",
    "\n",
    "#     # run = neptune.init(\n",
    "#     #     project=\"YOU/YOUR_PROJECT\",\n",
    "#     #     api_token=\"YOUR_API_TOKEN\",\n",
    "#     # )\n",
    "\n",
    "#     # run['params'] = params\n",
    "\n",
    "#     my_kfold = KFold(n_splits=10, shuffle=True, random_state=0)\n",
    "\n",
    "#     for train_index, test_index in my_kfold.split(X_windows):\n",
    "\n",
    "#         X_train, X_test = X_windows[train_index], X_windows[test_index]\n",
    "#         y_train, y_test = np.array(\n",
    "#             y_data)[train_index], np.array(y_data)[test_index]\n",
    "\n",
    "#         xgb_model = xgb.XGBRegressor(\n",
    "#             max_depth=params[0], gamma=params[1], min_child_weight=params[2], eta=params[3])\n",
    "#         xgb_model.fit(X_train, y_train)\n",
    "#         preds = xgb_model.predict(X_test)\n",
    "\n",
    "#         mses.append(mean_squared_error(y_test, preds))\n",
    "\n",
    "#     average_mse = np.mean(mses)\n",
    "#     std_mse = np.std(mses)\n",
    "#     # run['average_mse'] = average_mse\n",
    "#     # run['std_mse'] = std_mse\n",
    "\n",
    "#     # run.stop()\n"
   ]
  },
  {
   "cell_type": "code",
   "execution_count": 29,
   "metadata": {},
   "outputs": [
    {
     "data": {
      "text/plain": [
       "(168,)"
      ]
     },
     "execution_count": 29,
     "metadata": {},
     "output_type": "execute_result"
    }
   ],
   "source": [
    "# X_test.shape"
   ]
  },
  {
   "cell_type": "code",
   "execution_count": 40,
   "metadata": {},
   "outputs": [
    {
     "name": "stdout",
     "output_type": "stream",
     "text": [
      "[0]\tvalidation_0-rmse:70.09584\tvalidation_1-rmse:71.53015\n",
      "[1]\tvalidation_0-rmse:69.41863\tvalidation_1-rmse:70.84229\n",
      "[2]\tvalidation_0-rmse:68.74839\tvalidation_1-rmse:70.16155\n",
      "[3]\tvalidation_0-rmse:68.08502\tvalidation_1-rmse:69.48784\n",
      "[4]\tvalidation_0-rmse:67.42847\tvalidation_1-rmse:68.81836\n",
      "[5]\tvalidation_0-rmse:66.77863\tvalidation_1-rmse:68.15590\n",
      "[6]\tvalidation_0-rmse:66.13546\tvalidation_1-rmse:67.50196\n",
      "[7]\tvalidation_0-rmse:65.49892\tvalidation_1-rmse:66.85293\n",
      "[8]\tvalidation_0-rmse:64.86874\tvalidation_1-rmse:66.21209\n",
      "[9]\tvalidation_0-rmse:64.24509\tvalidation_1-rmse:65.57807\n",
      "[10]\tvalidation_0-rmse:63.62789\tvalidation_1-rmse:64.94886\n",
      "[11]\tvalidation_0-rmse:63.01677\tvalidation_1-rmse:64.32872\n",
      "[12]\tvalidation_0-rmse:62.41215\tvalidation_1-rmse:63.71253\n",
      "[13]\tvalidation_0-rmse:61.81379\tvalidation_1-rmse:63.10253\n",
      "[14]\tvalidation_0-rmse:61.22110\tvalidation_1-rmse:62.50168\n",
      "[15]\tvalidation_0-rmse:60.63496\tvalidation_1-rmse:61.90436\n",
      "[16]\tvalidation_0-rmse:60.05422\tvalidation_1-rmse:61.31722\n",
      "[17]\tvalidation_0-rmse:59.47961\tvalidation_1-rmse:60.73556\n",
      "[18]\tvalidation_0-rmse:58.91133\tvalidation_1-rmse:60.15625\n",
      "[19]\tvalidation_0-rmse:58.34833\tvalidation_1-rmse:59.58720\n",
      "[20]\tvalidation_0-rmse:57.79168\tvalidation_1-rmse:59.01993\n",
      "[21]\tvalidation_0-rmse:57.24021\tvalidation_1-rmse:58.46034\n",
      "[22]\tvalidation_0-rmse:56.69489\tvalidation_1-rmse:57.90480\n",
      "[23]\tvalidation_0-rmse:56.15471\tvalidation_1-rmse:57.35906\n",
      "[24]\tvalidation_0-rmse:55.62050\tvalidation_1-rmse:56.81496\n",
      "[25]\tvalidation_0-rmse:55.09138\tvalidation_1-rmse:56.27803\n",
      "[26]\tvalidation_0-rmse:54.56812\tvalidation_1-rmse:55.74511\n",
      "[27]\tvalidation_0-rmse:54.05007\tvalidation_1-rmse:55.21891\n",
      "[28]\tvalidation_0-rmse:53.53689\tvalidation_1-rmse:54.69778\n",
      "[29]\tvalidation_0-rmse:53.02957\tvalidation_1-rmse:54.18116\n",
      "[30]\tvalidation_0-rmse:52.52693\tvalidation_1-rmse:53.67296\n",
      "[31]\tvalidation_0-rmse:52.03004\tvalidation_1-rmse:53.16697\n",
      "[32]\tvalidation_0-rmse:51.53775\tvalidation_1-rmse:52.66922\n",
      "[33]\tvalidation_0-rmse:51.05110\tvalidation_1-rmse:52.17379\n",
      "[34]\tvalidation_0-rmse:50.56944\tvalidation_1-rmse:51.68456\n",
      "[35]\tvalidation_0-rmse:50.09228\tvalidation_1-rmse:51.19992\n",
      "[36]\tvalidation_0-rmse:49.62062\tvalidation_1-rmse:50.71960\n",
      "[37]\tvalidation_0-rmse:49.15332\tvalidation_1-rmse:50.24498\n",
      "[38]\tvalidation_0-rmse:48.69142\tvalidation_1-rmse:49.77460\n",
      "[39]\tvalidation_0-rmse:48.23374\tvalidation_1-rmse:49.31192\n",
      "[40]\tvalidation_0-rmse:47.78146\tvalidation_1-rmse:48.85070\n",
      "[41]\tvalidation_0-rmse:47.33330\tvalidation_1-rmse:48.39563\n",
      "[42]\tvalidation_0-rmse:46.89027\tvalidation_1-rmse:47.94386\n",
      "[43]\tvalidation_0-rmse:46.45133\tvalidation_1-rmse:47.49961\n",
      "[44]\tvalidation_0-rmse:46.01751\tvalidation_1-rmse:47.05720\n",
      "[45]\tvalidation_0-rmse:45.58768\tvalidation_1-rmse:46.62036\n",
      "[46]\tvalidation_0-rmse:45.16273\tvalidation_1-rmse:46.18756\n",
      "[47]\tvalidation_0-rmse:44.74184\tvalidation_1-rmse:45.76116\n",
      "[48]\tvalidation_0-rmse:44.32589\tvalidation_1-rmse:45.33813\n",
      "[49]\tvalidation_0-rmse:43.91366\tvalidation_1-rmse:44.91941\n",
      "[50]\tvalidation_0-rmse:43.50621\tvalidation_1-rmse:44.50464\n",
      "[51]\tvalidation_0-rmse:43.10258\tvalidation_1-rmse:44.09638\n",
      "[52]\tvalidation_0-rmse:42.70367\tvalidation_1-rmse:43.69014\n",
      "[53]\tvalidation_0-rmse:42.30903\tvalidation_1-rmse:43.28716\n",
      "[54]\tvalidation_0-rmse:41.91781\tvalidation_1-rmse:42.88931\n",
      "[55]\tvalidation_0-rmse:41.53136\tvalidation_1-rmse:42.49587\n",
      "[56]\tvalidation_0-rmse:41.14831\tvalidation_1-rmse:42.10741\n",
      "[57]\tvalidation_0-rmse:40.76998\tvalidation_1-rmse:41.72206\n",
      "[58]\tvalidation_0-rmse:40.39485\tvalidation_1-rmse:41.34128\n",
      "[59]\tvalidation_0-rmse:40.02458\tvalidation_1-rmse:40.96439\n",
      "[60]\tvalidation_0-rmse:39.65737\tvalidation_1-rmse:40.59199\n",
      "[61]\tvalidation_0-rmse:39.29479\tvalidation_1-rmse:40.22235\n",
      "[62]\tvalidation_0-rmse:38.93562\tvalidation_1-rmse:39.85859\n",
      "[63]\tvalidation_0-rmse:38.58071\tvalidation_1-rmse:39.49597\n",
      "[64]\tvalidation_0-rmse:38.22885\tvalidation_1-rmse:39.13873\n",
      "[65]\tvalidation_0-rmse:37.88147\tvalidation_1-rmse:38.78365\n",
      "[66]\tvalidation_0-rmse:37.53749\tvalidation_1-rmse:38.43368\n",
      "[67]\tvalidation_0-rmse:37.19757\tvalidation_1-rmse:38.08732\n",
      "[68]\tvalidation_0-rmse:36.86041\tvalidation_1-rmse:37.74466\n",
      "[69]\tvalidation_0-rmse:36.52764\tvalidation_1-rmse:37.40479\n",
      "[70]\tvalidation_0-rmse:36.19778\tvalidation_1-rmse:37.06838\n",
      "[71]\tvalidation_0-rmse:35.87212\tvalidation_1-rmse:36.73688\n",
      "[72]\tvalidation_0-rmse:35.54921\tvalidation_1-rmse:36.40855\n",
      "[73]\tvalidation_0-rmse:35.23048\tvalidation_1-rmse:36.08373\n",
      "[74]\tvalidation_0-rmse:34.91454\tvalidation_1-rmse:35.76317\n",
      "[75]\tvalidation_0-rmse:34.60266\tvalidation_1-rmse:35.44464\n",
      "[76]\tvalidation_0-rmse:34.29354\tvalidation_1-rmse:35.12932\n",
      "[77]\tvalidation_0-rmse:33.98836\tvalidation_1-rmse:34.81877\n",
      "[78]\tvalidation_0-rmse:33.68589\tvalidation_1-rmse:34.50930\n",
      "[79]\tvalidation_0-rmse:33.38724\tvalidation_1-rmse:34.20657\n",
      "[80]\tvalidation_0-rmse:33.09188\tvalidation_1-rmse:33.90507\n",
      "[81]\tvalidation_0-rmse:32.79909\tvalidation_1-rmse:33.60779\n",
      "[82]\tvalidation_0-rmse:32.51015\tvalidation_1-rmse:33.31352\n",
      "[83]\tvalidation_0-rmse:32.22378\tvalidation_1-rmse:33.02145\n",
      "[84]\tvalidation_0-rmse:31.94110\tvalidation_1-rmse:32.73528\n",
      "[85]\tvalidation_0-rmse:31.66091\tvalidation_1-rmse:32.45150\n",
      "[86]\tvalidation_0-rmse:31.38356\tvalidation_1-rmse:32.17014\n",
      "[87]\tvalidation_0-rmse:31.10996\tvalidation_1-rmse:31.89232\n",
      "[88]\tvalidation_0-rmse:30.83870\tvalidation_1-rmse:31.61687\n",
      "[89]\tvalidation_0-rmse:30.57112\tvalidation_1-rmse:31.34554\n",
      "[90]\tvalidation_0-rmse:30.30624\tvalidation_1-rmse:31.07418\n",
      "[91]\tvalidation_0-rmse:30.04384\tvalidation_1-rmse:30.80681\n",
      "[92]\tvalidation_0-rmse:29.78508\tvalidation_1-rmse:30.54379\n",
      "[93]\tvalidation_0-rmse:29.52848\tvalidation_1-rmse:30.28229\n",
      "[94]\tvalidation_0-rmse:29.27478\tvalidation_1-rmse:30.02369\n",
      "[95]\tvalidation_0-rmse:29.02367\tvalidation_1-rmse:29.76709\n",
      "[96]\tvalidation_0-rmse:28.77614\tvalidation_1-rmse:29.51671\n",
      "[97]\tvalidation_0-rmse:28.53059\tvalidation_1-rmse:29.26570\n",
      "[98]\tvalidation_0-rmse:28.28784\tvalidation_1-rmse:29.01789\n",
      "[99]\tvalidation_0-rmse:28.04852\tvalidation_1-rmse:28.77573\n"
     ]
    },
    {
     "data": {
      "text/plain": [
       "XGBRegressor(base_score=0.5, booster='gbtree', callbacks=None,\n",
       "             colsample_bylevel=1, colsample_bynode=1, colsample_bytree=1,\n",
       "             early_stopping_rounds=None, enable_categorical=False,\n",
       "             eval_metric=None, gamma=0, gpu_id=-1, grow_policy='depthwise',\n",
       "             importance_type=None, interaction_constraints='',\n",
       "             learning_rate=0.01, max_bin=256, max_cat_to_onehot=4,\n",
       "             max_delta_step=0, max_depth=3, max_leaves=0, min_child_weight=1,\n",
       "             missing=nan, monotone_constraints='()', n_estimators=100, n_jobs=0,\n",
       "             num_parallel_tree=1, predictor='auto', random_state=0, reg_alpha=0,\n",
       "             reg_lambda=1, ...)"
      ]
     },
     "execution_count": 40,
     "metadata": {},
     "output_type": "execute_result"
    }
   ],
   "source": [
    "\n",
    "model = xgb.XGBRegressor(n_estimators=100, max_depth=3, learning_rate=0.01)\n",
    "model.fit(X_train, y_train,\n",
    "          eval_set=[(X_train, y_train), (X_test, y_test)],\n",
    "          early_stopping_rounds=20)\n",
    "\n"
   ]
  },
  {
   "cell_type": "code",
   "execution_count": 33,
   "metadata": {},
   "outputs": [
    {
     "data": {
      "text/plain": [
       "array([52.653793], dtype=float32)"
      ]
     },
     "execution_count": 33,
     "metadata": {},
     "output_type": "execute_result"
    }
   ],
   "source": [
    "preds"
   ]
  },
  {
   "cell_type": "code",
   "execution_count": null,
   "metadata": {},
   "outputs": [],
   "source": []
  }
 ],
 "metadata": {
  "kernelspec": {
   "display_name": "Python 3.9.7 ('pytorch-env')",
   "language": "python",
   "name": "python3"
  },
  "language_info": {
   "codemirror_mode": {
    "name": "ipython",
    "version": 3
   },
   "file_extension": ".py",
   "mimetype": "text/x-python",
   "name": "python",
   "nbconvert_exporter": "python",
   "pygments_lexer": "ipython3",
   "version": "3.9.7"
  },
  "orig_nbformat": 4,
  "vscode": {
   "interpreter": {
    "hash": "1e3c77405f6b92cedd960e026082f7f14d8b4fed8f60217ed1d135159ee803e3"
   }
  }
 },
 "nbformat": 4,
 "nbformat_minor": 2
}
