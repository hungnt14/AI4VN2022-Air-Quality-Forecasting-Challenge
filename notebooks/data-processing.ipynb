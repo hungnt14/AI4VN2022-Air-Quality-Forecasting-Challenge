{
 "cells": [
  {
   "cell_type": "markdown",
   "metadata": {},
   "source": [
    "### 0. Overview"
   ]
  },
  {
   "cell_type": "code",
   "execution_count": 11,
   "metadata": {},
   "outputs": [],
   "source": [
    "from sklearn.linear_model import LinearRegression, Lasso, Ridge\n",
    "from sklearn.model_selection import train_test_split, GridSearchCV, RandomizedSearchCV\n",
    "from IPython.display import display\n",
    "from sklearn.ensemble import RandomForestRegressor, GradientBoostingRegressor\n",
    "from sklearn.metrics import r2_score, mean_squared_error\n",
    "from sklearn.tree import DecisionTreeRegressor\n",
    "# from sklearn.externals import joblib\n",
    "from sklearn import preprocessing\n",
    "import statsmodels.api as sm\n",
    "from statsmodels.stats.outliers_influence import variance_inflation_factor\n",
    "import statsmodels.formula.api as formula\n",
    "from statsmodels.tsa.seasonal import seasonal_decompose\n",
    "import warnings\n",
    "import pandas as pd\n",
    "import numpy as np\n",
    "import matplotlib.pyplot as plt\n",
    "import seaborn as sns\n",
    "sns.set()\n",
    "warnings.filterwarnings(action='ignore')\n"
   ]
  },
  {
   "cell_type": "code",
   "execution_count": 3,
   "metadata": {},
   "outputs": [],
   "source": [
    "file_path = '../data/raw/data-train/input/S0000137-Ngoc Khanh.csv'"
   ]
  },
  {
   "cell_type": "code",
   "execution_count": 4,
   "metadata": {},
   "outputs": [],
   "source": [
    "df = pd.read_csv(file_path)"
   ]
  },
  {
   "cell_type": "code",
   "execution_count": 5,
   "metadata": {},
   "outputs": [],
   "source": [
    "df = df.iloc[:, 1:]"
   ]
  },
  {
   "cell_type": "code",
   "execution_count": 7,
   "metadata": {},
   "outputs": [
    {
     "data": {
      "text/html": [
       "<div>\n",
       "<style scoped>\n",
       "    .dataframe tbody tr th:only-of-type {\n",
       "        vertical-align: middle;\n",
       "    }\n",
       "\n",
       "    .dataframe tbody tr th {\n",
       "        vertical-align: top;\n",
       "    }\n",
       "\n",
       "    .dataframe thead th {\n",
       "        text-align: right;\n",
       "    }\n",
       "</style>\n",
       "<table border=\"1\" class=\"dataframe\">\n",
       "  <thead>\n",
       "    <tr style=\"text-align: right;\">\n",
       "      <th></th>\n",
       "      <th>timestamp</th>\n",
       "      <th>PM2.5</th>\n",
       "      <th>humidity</th>\n",
       "      <th>temperature</th>\n",
       "    </tr>\n",
       "  </thead>\n",
       "  <tbody>\n",
       "    <tr>\n",
       "      <th>0</th>\n",
       "      <td>27/05/2020 12:00</td>\n",
       "      <td>23.66</td>\n",
       "      <td>64.09</td>\n",
       "      <td>29.96</td>\n",
       "    </tr>\n",
       "    <tr>\n",
       "      <th>1</th>\n",
       "      <td>27/05/2020 13:00</td>\n",
       "      <td>23.08</td>\n",
       "      <td>63.05</td>\n",
       "      <td>30.07</td>\n",
       "    </tr>\n",
       "    <tr>\n",
       "      <th>2</th>\n",
       "      <td>27/05/2020 14:00</td>\n",
       "      <td>25.68</td>\n",
       "      <td>67.51</td>\n",
       "      <td>29.77</td>\n",
       "    </tr>\n",
       "    <tr>\n",
       "      <th>3</th>\n",
       "      <td>27/05/2020 15:00</td>\n",
       "      <td>26.37</td>\n",
       "      <td>71.17</td>\n",
       "      <td>29.11</td>\n",
       "    </tr>\n",
       "    <tr>\n",
       "      <th>4</th>\n",
       "      <td>27/05/2020 16:00</td>\n",
       "      <td>27.57</td>\n",
       "      <td>71.60</td>\n",
       "      <td>29.08</td>\n",
       "    </tr>\n",
       "    <tr>\n",
       "      <th>...</th>\n",
       "      <td>...</td>\n",
       "      <td>...</td>\n",
       "      <td>...</td>\n",
       "      <td>...</td>\n",
       "    </tr>\n",
       "    <tr>\n",
       "      <th>8995</th>\n",
       "      <td>06/06/2021 07:00</td>\n",
       "      <td>NaN</td>\n",
       "      <td>NaN</td>\n",
       "      <td>NaN</td>\n",
       "    </tr>\n",
       "    <tr>\n",
       "      <th>8996</th>\n",
       "      <td>06/06/2021 08:00</td>\n",
       "      <td>NaN</td>\n",
       "      <td>NaN</td>\n",
       "      <td>NaN</td>\n",
       "    </tr>\n",
       "    <tr>\n",
       "      <th>8997</th>\n",
       "      <td>06/06/2021 09:00</td>\n",
       "      <td>NaN</td>\n",
       "      <td>NaN</td>\n",
       "      <td>NaN</td>\n",
       "    </tr>\n",
       "    <tr>\n",
       "      <th>8998</th>\n",
       "      <td>06/06/2021 10:00</td>\n",
       "      <td>NaN</td>\n",
       "      <td>NaN</td>\n",
       "      <td>NaN</td>\n",
       "    </tr>\n",
       "    <tr>\n",
       "      <th>8999</th>\n",
       "      <td>06/06/2021 11:00</td>\n",
       "      <td>NaN</td>\n",
       "      <td>NaN</td>\n",
       "      <td>NaN</td>\n",
       "    </tr>\n",
       "  </tbody>\n",
       "</table>\n",
       "<p>9000 rows × 4 columns</p>\n",
       "</div>"
      ],
      "text/plain": [
       "             timestamp  PM2.5  humidity  temperature\n",
       "0     27/05/2020 12:00  23.66     64.09        29.96\n",
       "1     27/05/2020 13:00  23.08     63.05        30.07\n",
       "2     27/05/2020 14:00  25.68     67.51        29.77\n",
       "3     27/05/2020 15:00  26.37     71.17        29.11\n",
       "4     27/05/2020 16:00  27.57     71.60        29.08\n",
       "...                ...    ...       ...          ...\n",
       "8995  06/06/2021 07:00    NaN       NaN          NaN\n",
       "8996  06/06/2021 08:00    NaN       NaN          NaN\n",
       "8997  06/06/2021 09:00    NaN       NaN          NaN\n",
       "8998  06/06/2021 10:00    NaN       NaN          NaN\n",
       "8999  06/06/2021 11:00    NaN       NaN          NaN\n",
       "\n",
       "[9000 rows x 4 columns]"
      ]
     },
     "execution_count": 7,
     "metadata": {},
     "output_type": "execute_result"
    }
   ],
   "source": [
    "df"
   ]
  },
  {
   "cell_type": "code",
   "execution_count": 8,
   "metadata": {},
   "outputs": [
    {
     "name": "stdout",
     "output_type": "stream",
     "text": [
      "<class 'pandas.core.frame.DataFrame'>\n",
      "RangeIndex: 9000 entries, 0 to 8999\n",
      "Data columns (total 4 columns):\n",
      " #   Column       Non-Null Count  Dtype  \n",
      "---  ------       --------------  -----  \n",
      " 0   timestamp    9000 non-null   object \n",
      " 1   PM2.5        8103 non-null   float64\n",
      " 2   humidity     8319 non-null   float64\n",
      " 3   temperature  8319 non-null   float64\n",
      "dtypes: float64(3), object(1)\n",
      "memory usage: 281.4+ KB\n"
     ]
    }
   ],
   "source": [
    "df.info()"
   ]
  },
  {
   "cell_type": "code",
   "execution_count": 36,
   "metadata": {},
   "outputs": [
    {
     "name": "stdout",
     "output_type": "stream",
     "text": [
      "Are there any duplicated values in our data ? : False\n",
      "\n",
      "The total number of null values in each colum:\n"
     ]
    },
    {
     "data": {
      "text/plain": [
       "timestamp        0\n",
       "PM2.5          897\n",
       "humidity       681\n",
       "temperature    681\n",
       "dtype: int64"
      ]
     },
     "metadata": {},
     "output_type": "display_data"
    }
   ],
   "source": [
    "# check for duplicated values and null values\n",
    "print('Are there any duplicated values in our data ? : {}\\n'.format(\n",
    "    df.duplicated().any()))\n",
    "print('The total number of null values in each colum:')\n",
    "display(df.isnull().sum())\n"
   ]
  },
  {
   "cell_type": "code",
   "execution_count": 9,
   "metadata": {},
   "outputs": [],
   "source": [
    "df['timestamp'] = pd.to_datetime(df['timestamp'])\n"
   ]
  },
  {
   "cell_type": "markdown",
   "metadata": {},
   "source": [
    "### 1. Handle NaN values"
   ]
  },
  {
   "cell_type": "code",
   "execution_count": 6,
   "metadata": {},
   "outputs": [],
   "source": [
    "# fill in the missing values with the mean of the particular column\n",
    "df['PM2.5'].fillna(value = df['PM2.5'].mean(), inplace = True)\n",
    "df['humidity'].fillna(value=df['humidity'].mean(), inplace=True)\n",
    "df['temperature'].fillna(value=df['temperature'].mean(), inplace=True)\n"
   ]
  },
  {
   "cell_type": "code",
   "execution_count": 19,
   "metadata": {},
   "outputs": [
    {
     "data": {
      "text/plain": [
       "timestamp      False\n",
       "PM2.5          False\n",
       "humidity       False\n",
       "temperature    False\n",
       "dtype: bool"
      ]
     },
     "execution_count": 19,
     "metadata": {},
     "output_type": "execute_result"
    }
   ],
   "source": [
    "# let's check the data again if there are any missing values\n",
    "df.isnull().any()\n"
   ]
  },
  {
   "cell_type": "markdown",
   "metadata": {},
   "source": [
    "### 2. Check Outlier"
   ]
  },
  {
   "cell_type": "code",
   "execution_count": 1,
   "metadata": {},
   "outputs": [],
   "source": [
    "def outlier_thresholds(dataframe, col_name, q1_perc=0.05, q3_perc=0.95):\n",
    "    \"\"\"\n",
    "    given dataframe, column name, q1_percentage and q3 percentage, function calculates low_limit and up_limit\n",
    "\n",
    "    \"\"\"\n",
    "    quartile1 = dataframe[col_name].quantile(q1_perc)\n",
    "    quartile3 = dataframe[col_name].quantile(q3_perc)\n",
    "    interquantile_range = quartile3 - quartile1\n",
    "    up_limit = quartile3 + 1.5 * interquantile_range\n",
    "    low_limit = quartile1 - 1.5 * interquantile_range\n",
    "    return low_limit, up_limit\n",
    "\n",
    "\n",
    "def check_outlier(dataframe, col_name, q1_perc=0.01, q3_perc=0.99):\n",
    "    outlier_list = []\n",
    "    low_limit, up_limit = outlier_thresholds(\n",
    "        dataframe, col_name, q1_perc=0.01, q3_perc=0.99)\n",
    "    if dataframe[(dataframe[col_name] > up_limit) | (dataframe[col_name] < low_limit)].any(axis=None):\n",
    "        return True\n",
    "    else:\n",
    "        return False\n"
   ]
  },
  {
   "cell_type": "code",
   "execution_count": 7,
   "metadata": {},
   "outputs": [
    {
     "data": {
      "text/plain": [
       "False"
      ]
     },
     "execution_count": 7,
     "metadata": {},
     "output_type": "execute_result"
    }
   ],
   "source": [
    "check_outlier(df, 'PM2.5')"
   ]
  },
  {
   "cell_type": "code",
   "execution_count": 12,
   "metadata": {},
   "outputs": [
    {
     "data": {
      "text/plain": [
       "<Figure size 432x288 with 0 Axes>"
      ]
     },
     "metadata": {},
     "output_type": "display_data"
    },
    {
     "data": {
      "image/png": "[encoded data removed]",
      "text/plain": [
       "<Figure size 576x432 with 4 Axes>"
      ]
     },
     "metadata": {},
     "output_type": "display_data"
    }
   ],
   "source": [
    "train_plot = df.set_index('timestamp')\n",
    "y = train_plot['PM2.5'].resample('MS').mean()\n",
    "\n",
    "result = sm.tsa.seasonal_decompose(y, model='additive')\n",
    "fig = plt.figure()\n",
    "fig = result.plot()\n",
    "fig.set_size_inches(8, 6)\n"
   ]
  },
  {
   "cell_type": "markdown",
   "metadata": {},
   "source": [
    "### 3. Feature engineering"
   ]
  },
  {
   "cell_type": "code",
   "execution_count": 13,
   "metadata": {},
   "outputs": [],
   "source": [
    "def create_date_features(df):\n",
    "    df['month'] = df.timestamp.dt.month\n",
    "    df['day_of_month'] = df.timestamp.dt.day\n",
    "    df['day_of_year'] = df.timestamp.dt.dayofyear\n",
    "    df['week_of_year'] = df.timestamp.dt.weekofyear\n",
    "    # 1.1.2013 is Tuesday, so our starting point is the 2nd day of week\n",
    "    df['day_of_week'] = df.timestamp.dt.dayofweek + 1\n",
    "    df['year'] = df.timestamp.dt.year\n",
    "    df[\"is_wknd\"] = df.timestamp.dt.weekday // 4\n",
    "    df['is_month_start'] = df.timestamp.dt.is_month_start.astype(int)\n",
    "    df['is_month_end'] = df.timestamp.dt.is_month_end.astype(int)\n",
    "    return df"
   ]
  },
  {
   "cell_type": "code",
   "execution_count": 14,
   "metadata": {},
   "outputs": [
    {
     "data": {
      "text/html": [
       "<div>\n",
       "<style scoped>\n",
       "    .dataframe tbody tr th:only-of-type {\n",
       "        vertical-align: middle;\n",
       "    }\n",
       "\n",
       "    .dataframe tbody tr th {\n",
       "        vertical-align: top;\n",
       "    }\n",
       "\n",
       "    .dataframe thead th {\n",
       "        text-align: right;\n",
       "    }\n",
       "</style>\n",
       "<table border=\"1\" class=\"dataframe\">\n",
       "  <thead>\n",
       "    <tr style=\"text-align: right;\">\n",
       "      <th></th>\n",
       "      <th>timestamp</th>\n",
       "      <th>PM2.5</th>\n",
       "      <th>humidity</th>\n",
       "      <th>temperature</th>\n",
       "      <th>month</th>\n",
       "      <th>day_of_month</th>\n",
       "      <th>day_of_year</th>\n",
       "      <th>week_of_year</th>\n",
       "      <th>day_of_week</th>\n",
       "      <th>year</th>\n",
       "      <th>is_wknd</th>\n",
       "      <th>is_month_start</th>\n",
       "      <th>is_month_end</th>\n",
       "    </tr>\n",
       "  </thead>\n",
       "  <tbody>\n",
       "    <tr>\n",
       "      <th>0</th>\n",
       "      <td>2020-05-27 12:00:00</td>\n",
       "      <td>23.66</td>\n",
       "      <td>64.09</td>\n",
       "      <td>29.96</td>\n",
       "      <td>5</td>\n",
       "      <td>27</td>\n",
       "      <td>148</td>\n",
       "      <td>22</td>\n",
       "      <td>3</td>\n",
       "      <td>2020</td>\n",
       "      <td>0</td>\n",
       "      <td>0</td>\n",
       "      <td>0</td>\n",
       "    </tr>\n",
       "    <tr>\n",
       "      <th>1</th>\n",
       "      <td>2020-05-27 13:00:00</td>\n",
       "      <td>23.08</td>\n",
       "      <td>63.05</td>\n",
       "      <td>30.07</td>\n",
       "      <td>5</td>\n",
       "      <td>27</td>\n",
       "      <td>148</td>\n",
       "      <td>22</td>\n",
       "      <td>3</td>\n",
       "      <td>2020</td>\n",
       "      <td>0</td>\n",
       "      <td>0</td>\n",
       "      <td>0</td>\n",
       "    </tr>\n",
       "    <tr>\n",
       "      <th>2</th>\n",
       "      <td>2020-05-27 14:00:00</td>\n",
       "      <td>25.68</td>\n",
       "      <td>67.51</td>\n",
       "      <td>29.77</td>\n",
       "      <td>5</td>\n",
       "      <td>27</td>\n",
       "      <td>148</td>\n",
       "      <td>22</td>\n",
       "      <td>3</td>\n",
       "      <td>2020</td>\n",
       "      <td>0</td>\n",
       "      <td>0</td>\n",
       "      <td>0</td>\n",
       "    </tr>\n",
       "    <tr>\n",
       "      <th>3</th>\n",
       "      <td>2020-05-27 15:00:00</td>\n",
       "      <td>26.37</td>\n",
       "      <td>71.17</td>\n",
       "      <td>29.11</td>\n",
       "      <td>5</td>\n",
       "      <td>27</td>\n",
       "      <td>148</td>\n",
       "      <td>22</td>\n",
       "      <td>3</td>\n",
       "      <td>2020</td>\n",
       "      <td>0</td>\n",
       "      <td>0</td>\n",
       "      <td>0</td>\n",
       "    </tr>\n",
       "    <tr>\n",
       "      <th>4</th>\n",
       "      <td>2020-05-27 16:00:00</td>\n",
       "      <td>27.57</td>\n",
       "      <td>71.60</td>\n",
       "      <td>29.08</td>\n",
       "      <td>5</td>\n",
       "      <td>27</td>\n",
       "      <td>148</td>\n",
       "      <td>22</td>\n",
       "      <td>3</td>\n",
       "      <td>2020</td>\n",
       "      <td>0</td>\n",
       "      <td>0</td>\n",
       "      <td>0</td>\n",
       "    </tr>\n",
       "  </tbody>\n",
       "</table>\n",
       "</div>"
      ],
      "text/plain": [
       "            timestamp  PM2.5  humidity  temperature  month  day_of_month  \\\n",
       "0 2020-05-27 12:00:00  23.66     64.09        29.96      5            27   \n",
       "1 2020-05-27 13:00:00  23.08     63.05        30.07      5            27   \n",
       "2 2020-05-27 14:00:00  25.68     67.51        29.77      5            27   \n",
       "3 2020-05-27 15:00:00  26.37     71.17        29.11      5            27   \n",
       "4 2020-05-27 16:00:00  27.57     71.60        29.08      5            27   \n",
       "\n",
       "   day_of_year  week_of_year  day_of_week  year  is_wknd  is_month_start  \\\n",
       "0          148            22            3  2020        0               0   \n",
       "1          148            22            3  2020        0               0   \n",
       "2          148            22            3  2020        0               0   \n",
       "3          148            22            3  2020        0               0   \n",
       "4          148            22            3  2020        0               0   \n",
       "\n",
       "   is_month_end  \n",
       "0             0  \n",
       "1             0  \n",
       "2             0  \n",
       "3             0  \n",
       "4             0  "
      ]
     },
     "execution_count": 14,
     "metadata": {},
     "output_type": "execute_result"
    }
   ],
   "source": [
    "df = create_date_features(df)\n",
    "df.head()"
   ]
  },
  {
   "cell_type": "markdown",
   "metadata": {},
   "source": [
    "### 4. Scale (for regression)"
   ]
  },
  {
   "cell_type": "code",
   "execution_count": 39,
   "metadata": {},
   "outputs": [],
   "source": [
    "from sklearn.compose import ColumnTransformer\n",
    "from sklearn.preprocessing import StandardScaler\n"
   ]
  },
  {
   "cell_type": "code",
   "execution_count": 40,
   "metadata": {},
   "outputs": [],
   "source": [
    "col_names = ['humidity', 'temperature']\n"
   ]
  },
  {
   "cell_type": "code",
   "execution_count": 41,
   "metadata": {},
   "outputs": [],
   "source": [
    "ct = ColumnTransformer([\n",
    "    ('Scaler', StandardScaler(), col_names)\n",
    "], remainder='passthrough')\n"
   ]
  },
  {
   "cell_type": "code",
   "execution_count": 44,
   "metadata": {},
   "outputs": [],
   "source": [
    "df[col_names] = ct.fit_transform(df[col_names])"
   ]
  },
  {
   "cell_type": "code",
   "execution_count": null,
   "metadata": {},
   "outputs": [],
   "source": [
    "df.to_csv('../data/processed/data-train/input/S0000137-Ngoc Khanh.csv')\n"
   ]
  },
  {
   "cell_type": "markdown",
   "metadata": {},
   "source": [
    "### Process Data"
   ]
  },
  {
   "cell_type": "code",
   "execution_count": null,
   "metadata": {},
   "outputs": [],
   "source": [
    "!python src/data/data_processing.py"
   ]
  },
  {
   "cell_type": "code",
   "execution_count": null,
   "metadata": {},
   "outputs": [],
   "source": []
  }
 ],
 "metadata": {
  "kernelspec": {
   "display_name": "Python 3.9.7 ('pytorch-env')",
   "language": "python",
   "name": "python3"
  },
  "language_info": {
   "codemirror_mode": {
    "name": "ipython",
    "version": 3
   },
   "file_extension": ".py",
   "mimetype": "text/x-python",
   "name": "python",
   "nbconvert_exporter": "python",
   "pygments_lexer": "ipython3",
   "version": "3.9.7"
  },
  "orig_nbformat": 4,
  "vscode": {
   "interpreter": {
    "hash": "1e3c77405f6b92cedd960e026082f7f14d8b4fed8f60217ed1d135159ee803e3"
   }
  }
 },
 "nbformat": 4,
 "nbformat_minor": 2
}
