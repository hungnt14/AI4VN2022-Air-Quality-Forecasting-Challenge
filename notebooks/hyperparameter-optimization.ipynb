{
 "cells": [
  {
   "cell_type": "code",
   "execution_count": 1,
   "metadata": {},
   "outputs": [],
   "source": [
    "import optuna\n"
   ]
  },
  {
   "cell_type": "code",
   "execution_count": 15,
   "metadata": {},
   "outputs": [],
   "source": [
    "import numpy as np\n",
    "import pandas as pd\n",
    "import xgboost as xgb\n",
    "import os\n",
    "from sklearn.model_selection import *\n",
    "import sklearn\n",
    "import numpy as np\n",
    "from sklearn.metrics import mean_squared_error\n",
    "# evaluation\n"
   ]
  },
  {
   "cell_type": "code",
   "execution_count": 21,
   "metadata": {},
   "outputs": [],
   "source": [
    "def mdape(model, X, y_true):\n",
    "    y_predict = model.predict(X)\n",
    "    mdape = np.median((np.abs(np.subtract(y_true, y_predict)) / y_predict)) * 100\n",
    "    return mdape\n"
   ]
  },
  {
   "cell_type": "code",
   "execution_count": 3,
   "metadata": {},
   "outputs": [],
   "source": [
    "def RMSE(clf, X, y_true):\n",
    "    y_predict = clf.predict(X)\n",
    "    mse = mean_squared_error(y_true, y_predict)\n",
    "    rmse = np.sqrt(mse)\n",
    "    return rmse\n"
   ]
  },
  {
   "cell_type": "code",
   "execution_count": 4,
   "metadata": {},
   "outputs": [],
   "source": [
    "def load_data(data_path, test_size):\n",
    "    # Load X, Y\n",
    "    df = pd.read_csv(data_path)\n",
    "    data = df['PM2.5'].values\n",
    "    X_data = []\n",
    "    y_data = []\n",
    "    for i in range(len(data) - 169):\n",
    "        X_data.append(data[i:i+168])\n",
    "        y_data.append(data[i+168])\n",
    "\n",
    "    # Split with ratio\n",
    "    # best 10\n",
    "    X_train, X_valid, y_train, y_valid = train_test_split(\n",
    "        X_data, np.array(y_data), test_size=test_size, random_state=10, shuffle=False)\n",
    "\n",
    "    return X_train, X_valid, y_train, y_valid\n"
   ]
  },
  {
   "cell_type": "code",
   "execution_count": 16,
   "metadata": {},
   "outputs": [],
   "source": [
    "def objective(trial, input_path):\n",
    "    \n",
    "    n_estimators = trial.suggest_int('n_estimators', 200, 200)\n",
    "    max_depth = trial.suggest_int('max_depth', 3, 10)\n",
    "    max_features = trial.suggest_int('max_features', 3, 10)\n",
    "    min_samples_split = trial.suggest_int('min_samples_split',3, 10)\n",
    "    min_samples_leaf = trial.suggest_int('min_samples_leaf',3, 5)\n",
    "    learning_rate = trial.suggest_uniform('learning_rate', 0.05, 0.4)\n",
    "\n",
    "\n",
    "    model =  xgb.XGBRegressor(n_estimators= n_estimators,\n",
    "                              max_depth=max_depth,\n",
    "                              max_features='auto',\n",
    "                              min_samples_split=min_samples_split,\n",
    "                              min_samples_leaf=min_samples_leaf,\n",
    "                              learning_rate=learning_rate,\n",
    "                              verbosity=0)\n",
    "\n",
    "    X_train, X_valid, y_train, y_valid = load_data(\n",
    "        data_path=input_path, test_size=0.2)\n",
    "\n",
    "    model.fit(X_train, y_train, eval_set=[(X_train, y_train), (X_valid, y_valid)], \n",
    "              early_stopping_rounds=20)\n",
    "\n",
    "    return RMSE(model, X_valid, y_valid)\n",
    "\n",
    "\n",
    "# study = optuna.create_study(direction='minimize')\n",
    "# study.optimize(objective, n_trials=100)\n",
    "\n",
    "# trial = study.best_trial\n",
    "\n",
    "# print('Accuracy: {}'.format(trial.value))\n",
    "# print(\"Best hyperparameters: {}\".format(trial.params))\n"
   ]
  },
  {
   "cell_type": "code",
   "execution_count": 17,
   "metadata": {},
   "outputs": [],
   "source": [
    "def save_trial(trial, input_path, save_path):\n",
    "    model = xgb.XGBRegressor(n_estimators=trial.params['n_estimators'],\n",
    "                             max_depth=trial.params['max_depth'],\n",
    "                             max_features=trial.params['max_features'],\n",
    "                             min_samples_split=trial.params['min_samples_split'],\n",
    "                             min_samples_leaf=trial.params['min_samples_leaf'],\n",
    "                             learning_rate=trial.params['learning_rate'],\n",
    "                             verbosity=0)\n",
    "\n",
    "    X_train, X_valid, y_train, y_valid = load_data(\n",
    "        data_path=input_path, test_size=0.2)\n",
    "\n",
    "    model.fit(X_train, y_train, eval_set=[(X_train, y_train), (X_valid, y_valid)],\n",
    "              early_stopping_rounds=20)\n",
    "\n",
    "    model.save_model(save_path)\n"
   ]
  },
  {
   "cell_type": "code",
   "execution_count": null,
   "metadata": {},
   "outputs": [],
   "source": [
    "data_path = 'data/processed/data-train/input'\n",
    "for file_train in os.listdir(data_path):\n",
    "    save_dir_model = os.path.join(\n",
    "        'saved/models', file_train[:-4] + '.json')\n",
    "\n",
    "    input_path = os.path.join(\n",
    "        data_path, file_train)\n",
    "\n",
    "    func = lambda trial: objective(trial, input_path)\n",
    "\n",
    "    study = optuna.create_study(direction='minimize')\n",
    "    study.optimize(func, n_trials=100)\n",
    "\n",
    "    trial = study.best_trial\n",
    "\n",
    "    save_trial(trial, input_path, save_dir_model)\n",
    "    print('Done ', save_dir_model)\n"
   ]
  },
  {
   "cell_type": "code",
   "execution_count": 21,
   "metadata": {},
   "outputs": [
    {
     "name": "stdout",
     "output_type": "stream",
     "text": [
      "LICENSE    config  docs      notebooks\t     requirements.txt  run.sh  src\n",
      "README.md  data    note.txt  prediction.zip  results\t       saved\n"
     ]
    }
   ],
   "source": [
    "!ls"
   ]
  },
  {
   "cell_type": "code",
   "execution_count": 22,
   "metadata": {},
   "outputs": [
    {
     "name": "stdout",
     "output_type": "stream",
     "text": [
      "LICENSE    \u001b[0m\u001b[01;34mconfig\u001b[0m/  \u001b[01;34mdocs\u001b[0m/     \u001b[01;34mnotebooks\u001b[0m/      requirements.txt  \u001b[01;32mrun.sh\u001b[0m*  \u001b[01;34msrc\u001b[0m/\n",
      "README.md  \u001b[01;34mdata\u001b[0m/    note.txt  \u001b[01;31mprediction.zip\u001b[0m  \u001b[01;34mresults\u001b[0m/          \u001b[01;34msaved\u001b[0m/\n"
     ]
    }
   ],
   "source": [
    "%ls"
   ]
  },
  {
   "cell_type": "code",
   "execution_count": 23,
   "metadata": {},
   "outputs": [
    {
     "data": {
      "text/plain": [
       "'/home/zephy_manjaro/My-Workspace/Code/others/ai4vn2022-air-quality-forecasting'"
      ]
     },
     "execution_count": 23,
     "metadata": {},
     "output_type": "execute_result"
    }
   ],
   "source": [
    "%pwd"
   ]
  },
  {
   "cell_type": "code",
   "execution_count": null,
   "metadata": {},
   "outputs": [],
   "source": []
  }
 ],
 "metadata": {
  "kernelspec": {
   "display_name": "Python 3.9.7 ('pytorch-env')",
   "language": "python",
   "name": "python3"
  },
  "language_info": {
   "codemirror_mode": {
    "name": "ipython",
    "version": 3
   },
   "file_extension": ".py",
   "mimetype": "text/x-python",
   "name": "python",
   "nbconvert_exporter": "python",
   "pygments_lexer": "ipython3",
   "version": "3.9.7"
  },
  "orig_nbformat": 4,
  "vscode": {
   "interpreter": {
    "hash": "1e3c77405f6b92cedd960e026082f7f14d8b4fed8f60217ed1d135159ee803e3"
   }
  }
 },
 "nbformat": 4,
 "nbformat_minor": 2
}
